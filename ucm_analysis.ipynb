{
 "cells": [
  {
   "cell_type": "markdown",
   "metadata": {},
   "source": [
    "# UCM analysis\n",
    "\n",
    "2018-08-23"
   ]
  },
  {
   "cell_type": "code",
   "execution_count": null,
   "metadata": {},
   "outputs": [],
   "source": [
    "%matplotlib inline\n",
    "import ipdb as pdb\n",
    "import os\n",
    "import matplotlib.pyplot as plt\n",
    "# import mpl_toolkits.mplot3d.art3d as art3d\n",
    "\n",
    "from ipywidgets import interact, interactive, fixed, interact_manual\n",
    "from ipywidgets.embed import embed_minimal_html\n",
    "import ipywidgets as widgets\n",
    "import seaborn as sns\n",
    "sns.set(rc={'figure.facecolor':'white'})\n",
    "\n",
    "import pandas as pd\n",
    "import numpy as np\n",
    "import numdifftools as nd\n",
    "# from tools.utils import *\n",
    "from time import gmtime, strftime\n",
    "import tensorflow as tf\n",
    "from train import *\n",
    "from utils import *"
   ]
  },
  {
   "cell_type": "markdown",
   "metadata": {},
   "source": [
    "## Load data"
   ]
  },
  {
   "cell_type": "code",
   "execution_count": 34,
   "metadata": {},
   "outputs": [
    {
     "name": "stdout",
     "output_type": "stream",
     "text": [
      "model_dir: model/test\n",
      "which_epoch: 2000\n",
      "INFO:tensorflow:Restoring parameters from model/test/model_epoch=2000\n"
     ]
    }
   ],
   "source": [
    "params = get_param('model/test', which_epoch=2000)  # model parameters\n",
    "phn2idx = np.load('phn2idx.npy').item()\n",
    "idx2phn = np.load('idx2phn.npy').item()\n",
    "pca = np.load('fft_linfilt_pca.npy').item()\n",
    "labels = np.load('labels.npy')\n",
    "X_reduced = np.load('fft_linfilt_pca_reduced.npy')\n",
    "X_scaler = np.load('fft_linfilt_pca_reduced_scaler.npy').item()\n",
    "X_std = X_scaler.transform(X_reduced)\n",
    "phones = [*phn2idx]"
   ]
  },
  {
   "cell_type": "code",
   "execution_count": 35,
   "metadata": {},
   "outputs": [
    {
     "data": {
      "text/plain": [
       "(38777, 15)"
      ]
     },
     "execution_count": 35,
     "metadata": {},
     "output_type": "execute_result"
    }
   ],
   "source": [
    "X_std.shape"
   ]
  },
  {
   "cell_type": "code",
   "execution_count": 15,
   "metadata": {},
   "outputs": [],
   "source": [
    "vowels = ['IY1','AE1','AA1','UW1']"
   ]
  },
  {
   "cell_type": "code",
   "execution_count": 44,
   "metadata": {},
   "outputs": [],
   "source": [
    "# Get vowel reference\n",
    "meanAcous = np.zeros((len(vowels),15))\n",
    "for i, v in enumerate(vowels):\n",
    "    idx, _ = find_elements(v, labels)\n",
    "    meanAcous[i,:] = np.mean(X_std[idx,:], axis=0)"
   ]
  },
  {
   "cell_type": "code",
   "execution_count": 45,
   "metadata": {},
   "outputs": [
    {
     "data": {
      "text/plain": [
       "(4, 15)"
      ]
     },
     "execution_count": 45,
     "metadata": {},
     "output_type": "execute_result"
    }
   ],
   "source": [
    "meanAcous.shape"
   ]
  },
  {
   "cell_type": "code",
   "execution_count": 46,
   "metadata": {},
   "outputs": [
    {
     "data": {
      "text/plain": [
       "<matplotlib.legend.Legend at 0x7f2cd53ab828>"
      ]
     },
     "execution_count": 46,
     "metadata": {},
     "output_type": "execute_result"
    },
    {
     "data": {
      "image/png": "[encoded data removed]",
      "text/plain": [
       "<Figure size 432x288 with 1 Axes>"
      ]
     },
     "metadata": {},
     "output_type": "display_data"
    }
   ],
   "source": [
    "fig, ax = plt.subplots(facecolor='white')\n",
    "p = ax.plot(X_scaler.inverse_transform(meanAcous).T, 'o-');\n",
    "ax.legend(vowels)"
   ]
  },
  {
   "cell_type": "markdown",
   "metadata": {},
   "source": [
    "## Choose your vowel"
   ]
  },
  {
   "cell_type": "code",
   "execution_count": 47,
   "metadata": {},
   "outputs": [],
   "source": [
    "which_vowel = 'IY1'\n",
    "idx, _ = find_elements(which_vowel, vowels)\n",
    "print('meanAcousV:', meanAcous)\n",
    "print('Init PCs:', init_pcs)"
   ]
  },
  {
   "cell_type": "markdown",
   "metadata": {},
   "source": [
    "## Get Jacobian"
   ]
  },
  {
   "cell_type": "code",
   "execution_count": 58,
   "metadata": {},
   "outputs": [],
   "source": [
    "def forward(X):\n",
    "    '''\n",
    "    This function requires ANN hyper-parameters and sigmoid function\n",
    "    from outside.\n",
    "    They were separated for calculating Jacobian matrix (numdifftools)\n",
    "    '''\n",
    "    W1, W2, W3, W4 = params['W1'], params['W2'], params['W3'], params['W4']\n",
    "    b1, b2, b3, b4 = params['b1'], params['b2'], params['b3'], params['b4']\n",
    "    L1 = relu(np.dot(X, W1) + b1) # Nx300\n",
    "    L2 = relu(np.dot(L1, W2) + b2) # Nx300\n",
    "    L3 = relu(np.dot(L2, W3) + b3) # Nx300\n",
    "    L4 = relu(np.dot(L3, W4) + b4) # Nx3000\n",
    "    return softmax(L4)"
   ]
  },
  {
   "cell_type": "code",
   "execution_count": 58,
   "metadata": {},
   "outputs": [
    {
     "name": "stdout",
     "output_type": "stream",
     "text": [
      "Shape= (9, 15)\n"
     ]
    }
   ],
   "source": [
    "jacob = nd.Jacobian(forward)\n",
    "J = jacob(np.squeeze(meanAcous[idx]))\n",
    "print('Shape=', J.shape)"
   ]
  },
  {
   "cell_type": "code",
   "execution_count": 59,
   "metadata": {},
   "outputs": [
    {
     "name": "stdout",
     "output_type": "stream",
     "text": [
      "Shape= (15, 9)\n",
      "[[ 3.24182196e-01 -3.76633504e-01 -1.29030437e-01 -3.32937629e-03\n",
      "  -2.80609336e-01  4.80589135e-02 -2.04371282e-01  2.04303784e-02\n",
      "   4.85664564e-02]\n",
      " [-1.04998880e-01  1.07116625e-01 -9.38283479e-02 -3.28731977e-02\n",
      "  -5.78957888e-03 -2.83512299e-01  1.45281048e-01  1.40093239e-01\n",
      "   1.47880262e-01]\n",
      " [-8.19220289e-02  6.15300715e-02 -2.97827860e-01  1.96533729e-01\n",
      "   2.32678872e-01 -4.31230131e-01  4.36465073e-01  5.01472472e-02\n",
      "   4.06115708e-01]\n",
      " [-1.04911113e-01  1.06854328e-02  3.00292847e-01  1.23284302e-01\n",
      "   2.09732741e-01 -1.99191627e-01  5.40018512e-02 -2.45407078e-01\n",
      "  -3.78693559e-01]\n",
      " [-2.90274532e-01 -4.56173843e-01 -2.24825729e-01  6.66961650e-02\n",
      "  -1.99940115e-01  2.46494874e-01  5.99821529e-02 -2.80491286e-01\n",
      "   1.38861666e-01]\n",
      " [-5.38179451e-01 -2.80345350e-01  4.37068821e-01 -2.40937993e-01\n",
      "  -2.18182372e-02 -2.14412408e-01 -2.01035252e-02  2.75119671e-01\n",
      "  -6.80669309e-02]\n",
      " [ 3.45052140e-01 -2.42638117e-01 -2.76328921e-01 -2.68609067e-01\n",
      "  -8.85970165e-02 -2.23637055e-01  3.29634538e-01  2.52027832e-01\n",
      "  -2.05467027e-01]\n",
      " [ 2.12663880e-02 -1.79042650e-01  1.49829204e-01  3.63133082e-01\n",
      "   4.12180431e-02  4.84403204e-01  4.03277762e-01  5.73755133e-01\n",
      "  -1.11998333e-01]\n",
      " [ 1.40556130e-01  1.81709895e-01  2.04727397e-01 -3.95617450e-02\n",
      "  -1.56047984e-01  1.59113977e-01  6.06978288e-01 -4.78653901e-01\n",
      "  -2.32143121e-01]\n",
      " [ 8.09653704e-02  2.50634551e-01  6.85307495e-02  7.01807299e-01\n",
      "  -1.33940704e-01 -9.73114298e-02 -2.16094932e-01  8.87557715e-02\n",
      "   5.17736159e-03]\n",
      " [ 1.54491910e-01 -1.93296653e-01 -1.26148254e-02 -2.69055457e-02\n",
      "   8.42723151e-01  1.71898098e-01 -7.00007705e-02 -4.87010286e-02\n",
      "  -1.35785492e-02]\n",
      " [ 3.91472140e-02  4.42379848e-01 -1.58551299e-01 -3.49633298e-01\n",
      "   6.83054476e-02  3.64192109e-01 -1.22609282e-01  1.35962927e-01\n",
      "   7.57125722e-02]\n",
      " [-4.77033128e-01  2.93404863e-01 -2.54004736e-01 -8.09576899e-02\n",
      "  -5.23584979e-02  2.40766205e-01  1.39810649e-01  9.98036679e-02\n",
      "   5.73347050e-03]\n",
      " [ 2.00129157e-01  2.22533348e-01  1.35769250e-01 -1.80144893e-01\n",
      "  -9.66853435e-02 -1.94644412e-01 -2.43934747e-02  3.19893165e-01\n",
      "  -2.62084565e-01]\n",
      " [ 2.31149212e-01  2.54615921e-02  5.48113875e-01 -1.49984942e-01\n",
      "  -6.21985547e-02  8.63455520e-02  1.14974255e-01 -8.16851405e-04\n",
      "   6.78382456e-01]]\n"
     ]
    }
   ],
   "source": [
    "# Null space of Jacobian\n",
    "ucm_vec = nullspace(J)\n",
    "print('Shape=', ucm_vec.shape)\n",
    "print(ucm_vec)"
   ]
  },
  {
   "cell_type": "markdown",
   "metadata": {},
   "source": [
    "## 이것은 무엇??? Null space가 전체스페이스?!\n",
    "\n",
    "- Raw -> Scale -> PCA -> ANN으로 가는 과정을 다시 할 것! (특히 Scale -> PCA !!)\n",
    "- 리얼타임 플랏팅 확인할 것\n",
    "- Jacobian, UCM space 확인할 것"
   ]
  },
  {
   "cell_type": "code",
   "execution_count": null,
   "metadata": {},
   "outputs": [],
   "source": []
  },
  {
   "cell_type": "markdown",
   "metadata": {},
   "source": [
    "## UCM analysis"
   ]
  },
  {
   "cell_type": "code",
   "execution_count": null,
   "metadata": {},
   "outputs": [],
   "source": []
  },
  {
   "cell_type": "markdown",
   "metadata": {},
   "source": [
    "## CM analysis"
   ]
  },
  {
   "cell_type": "code",
   "execution_count": null,
   "metadata": {},
   "outputs": [],
   "source": []
  },
  {
   "cell_type": "code",
   "execution_count": null,
   "metadata": {},
   "outputs": [],
   "source": []
  },
  {
   "cell_type": "code",
   "execution_count": null,
   "metadata": {},
   "outputs": [],
   "source": []
  }
 ],
 "metadata": {
  "kernelspec": {
   "display_name": "Python 3",
   "language": "python",
   "name": "python3"
  },
  "language_info": {
   "codemirror_mode": {
    "name": "ipython",
    "version": 3
   },
   "file_extension": ".py",
   "mimetype": "text/x-python",
   "name": "python",
   "nbconvert_exporter": "python",
   "pygments_lexer": "ipython3",
   "version": "3.6.4"
  }
 },
 "nbformat": 4,
 "nbformat_minor": 2
}
