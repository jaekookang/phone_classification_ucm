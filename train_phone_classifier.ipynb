{
 "cells": [
  {
   "cell_type": "markdown",
   "metadata": {},
   "source": [
    "# Train frame-wise phone classifier\n",
    "\n",
    "2018-08-22"
   ]
  },
  {
   "cell_type": "code",
   "execution_count": 1,
   "metadata": {},
   "outputs": [],
   "source": [
    "%matplotlib inline\n",
    "import matplotlib.pyplot as plt\n",
    "import os\n",
    "import numpy as np\n",
    "\n",
    "import tensorflow as tf\n",
    "import numdifftools as nd\n",
    "from sklearn.model_selection import train_test_split\n",
    "from train import *"
   ]
  },
  {
   "cell_type": "markdown",
   "metadata": {},
   "source": [
    "## Prepare data"
   ]
  },
  {
   "cell_type": "code",
   "execution_count": 2,
   "metadata": {},
   "outputs": [],
   "source": [
    "fftlin = np.load('fft_linfilt_pca_reduced.npy')\n",
    "pca = np.load('fft_linfilt_pca.npy').item()\n",
    "labels = np.load('labels.npy')\n",
    "phn2idx = np.load('phn2idx.npy').item()\n",
    "idx2phn = np.load('idx2phn.npy').item()"
   ]
  },
  {
   "cell_type": "code",
   "execution_count": 3,
   "metadata": {},
   "outputs": [],
   "source": [
    "# Divide train/test set\n",
    "X_train, X_test, Y_train, Y_test = train_test_split(fftlin, labels, test_size=0.2)"
   ]
  },
  {
   "cell_type": "code",
   "execution_count": 4,
   "metadata": {},
   "outputs": [
    {
     "data": {
      "text/plain": [
       "((31021, 40), (31021,))"
      ]
     },
     "execution_count": 4,
     "metadata": {},
     "output_type": "execute_result"
    }
   ],
   "source": [
    "X_train.shape, Y_train.shape"
   ]
  },
  {
   "cell_type": "code",
   "execution_count": 5,
   "metadata": {},
   "outputs": [
    {
     "data": {
      "text/plain": [
       "((7756, 40), (7756,))"
      ]
     },
     "execution_count": 5,
     "metadata": {},
     "output_type": "execute_result"
    }
   ],
   "source": [
    "X_test.shape, Y_test.shape"
   ]
  },
  {
   "cell_type": "markdown",
   "metadata": {},
   "source": [
    "### Convert to idx"
   ]
  },
  {
   "cell_type": "code",
   "execution_count": 6,
   "metadata": {},
   "outputs": [],
   "source": [
    "Y_train_onehot = np.array([phn2idx[phn] for phn in Y_train])\n",
    "Y_test_onehot = np.array([phn2idx[phn] for phn in Y_test])"
   ]
  },
  {
   "cell_type": "code",
   "execution_count": 7,
   "metadata": {},
   "outputs": [
    {
     "name": "stderr",
     "output_type": "stream",
     "text": [
      "INFO:train:learning_rate: 0.01\n",
      "INFO:train:training_epochs: 500\n",
      "INFO:train:n_display: 50\n",
      "INFO:train:train_x: (31021, 40), train_y: (31021,)\n",
      "INFO:train:test_x: (7756, 40), test_y: (7756,)\n",
      "\n",
      "INFO:train:hidden_output_size: 500\n",
      "INFO:train:final_output_size: 9\n",
      "\n",
      "INFO:train:  50/500 train: CE=0.9070, test: CE=0.9475, test_acc:0.64 slop=0.94753\n",
      "INFO:train: 100/500 train: CE=0.7081, test: CE=0.8670, test_acc:0.68 slop=-0.08053\n",
      "INFO:train: 150/500 train: CE=0.6189, test: CE=0.9026, test_acc:0.68 slop=0.03559\n",
      "INFO:train: 200/500 train: CE=0.6291, test: CE=0.9474, test_acc:0.67 slop=0.04482\n",
      "INFO:train: 250/500 train: CE=0.5218, test: CE=1.0088, test_acc:0.67 slop=0.06143\n",
      "INFO:train: 300/500 train: CE=0.4732, test: CE=1.0726, test_acc:0.66 slop=0.06379\n",
      "INFO:train: 350/500 train: CE=0.3949, test: CE=1.1664, test_acc:0.67 slop=0.09374\n",
      "INFO:train: 400/500 train: CE=0.4009, test: CE=1.3827, test_acc:0.64 slop=0.21631\n",
      "INFO:train: 450/500 train: CE=0.3643, test: CE=1.2176, test_acc:0.66 slop=-0.16505\n",
      "INFO:train: 500/500 train: CE=0.4205, test: CE=1.1155, test_acc:0.66 slop=-0.10213\n",
      "INFO:root:Training finished\n"
     ]
    }
   ],
   "source": [
    "max_epoch = 500\n",
    "n = 50 # n_display\n",
    "uq_vowels = list(set(labels))\n",
    "\n",
    "# Train\n",
    "total_cost, total_test, moving_avg, final_epoch, params = train_nn(\n",
    "    (X_train, Y_train_onehot), (X_test, Y_test_onehot), uq_vowels, \n",
    "    training_epochs=max_epoch, \n",
    "    model_dir=os.path.join('model','test'), n_display=n, verbose=True)"
   ]
  },
  {
   "cell_type": "markdown",
   "metadata": {},
   "source": [
    "## 해야할것\n",
    "\n",
    "- 훈련 accuracy도 추가하기\n",
    "- hidden size를 늘리고 dropout을 추가하자!  \n",
    "- batch norm도 추가하기\n",
    "- class 형태로 코드 정리하기 (trainmode testmode가 가능하도록)\n",
    "- 테스트 코드 작성하기"
   ]
  },
  {
   "cell_type": "code",
   "execution_count": null,
   "metadata": {},
   "outputs": [],
   "source": []
  }
 ],
 "metadata": {
  "kernelspec": {
   "display_name": "Python 3",
   "language": "python",
   "name": "python3"
  },
  "language_info": {
   "codemirror_mode": {
    "name": "ipython",
    "version": 3
   },
   "file_extension": ".py",
   "mimetype": "text/x-python",
   "name": "python",
   "nbconvert_exporter": "python",
   "pygments_lexer": "ipython3",
   "version": "3.6.4"
  }
 },
 "nbformat": 4,
 "nbformat_minor": 2
}
