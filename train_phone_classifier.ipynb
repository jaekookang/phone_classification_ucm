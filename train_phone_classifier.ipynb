{
 "cells": [
  {
   "cell_type": "markdown",
   "metadata": {},
   "source": [
    "# Train frame-wise phone classifier\n",
    "\n",
    "2018-08-22"
   ]
  },
  {
   "cell_type": "code",
   "execution_count": 1,
   "metadata": {},
   "outputs": [],
   "source": [
    "%matplotlib inline\n",
    "import matplotlib.pyplot as plt\n",
    "import os\n",
    "import numpy as np\n",
    "\n",
    "import tensorflow as tf\n",
    "import numdifftools as nd\n",
    "from sklearn.model_selection import train_test_split\n",
    "from sklearn.preprocessing import StandardScaler\n",
    "from train import *"
   ]
  },
  {
   "cell_type": "markdown",
   "metadata": {},
   "source": [
    "## Prepare data"
   ]
  },
  {
   "cell_type": "code",
   "execution_count": 2,
   "metadata": {},
   "outputs": [],
   "source": [
    "fftlin = np.load('fft_linfilt_pca_reduced.npy')\n",
    "pca = np.load('fft_linfilt_pca.npy').item()\n",
    "labels = np.load('labels.npy')\n",
    "phn2idx = np.load('phn2idx.npy').item()\n",
    "idx2phn = np.load('idx2phn.npy').item()"
   ]
  },
  {
   "cell_type": "code",
   "execution_count": 3,
   "metadata": {},
   "outputs": [],
   "source": [
    "X_scaler = StandardScaler().fit(fftlin)\n",
    "X_std = X_scaler.transform(fftlin)\n",
    "X_train, X_test, Y_train, Y_test = train_test_split(X_std, labels, test_size=0.2)\n",
    "# Save\n",
    "np.save('fft_linfilt_pca_reduced_scaler.npy', X_scaler)"
   ]
  },
  {
   "cell_type": "code",
   "execution_count": 4,
   "metadata": {},
   "outputs": [],
   "source": [
    "# # Divide train/test set\n",
    "# X_train, X_test, Y_train, Y_test = train_test_split(fftlin, labels, test_size=0.2)"
   ]
  },
  {
   "cell_type": "code",
   "execution_count": 5,
   "metadata": {},
   "outputs": [
    {
     "data": {
      "text/plain": [
       "((31021, 15), (31021,))"
      ]
     },
     "execution_count": 5,
     "metadata": {},
     "output_type": "execute_result"
    }
   ],
   "source": [
    "X_train.shape, Y_train.shape"
   ]
  },
  {
   "cell_type": "code",
   "execution_count": 6,
   "metadata": {},
   "outputs": [
    {
     "data": {
      "text/plain": [
       "((7756, 15), (7756,))"
      ]
     },
     "execution_count": 6,
     "metadata": {},
     "output_type": "execute_result"
    }
   ],
   "source": [
    "X_test.shape, Y_test.shape"
   ]
  },
  {
   "cell_type": "markdown",
   "metadata": {},
   "source": [
    "### Convert to idx"
   ]
  },
  {
   "cell_type": "code",
   "execution_count": 7,
   "metadata": {},
   "outputs": [],
   "source": [
    "Y_train_onehot = np.array([phn2idx[phn] for phn in Y_train])\n",
    "Y_test_onehot = np.array([phn2idx[phn] for phn in Y_test])"
   ]
  },
  {
   "cell_type": "code",
   "execution_count": 11,
   "metadata": {},
   "outputs": [
    {
     "name": "stderr",
     "output_type": "stream",
     "text": [
      "INFO:train:learning_rate: 0.01\n",
      "INFO:train:training_epochs: 5000\n",
      "INFO:train:n_display: 500\n",
      "INFO:train:train_x: (31021, 15), train_y: (31021,)\n",
      "INFO:train:test_x: (7756, 15), test_y: (7756,)\n",
      "\n",
      "INFO:train:Hidden size: 400 -> 200 -> 100\n",
      "INFO:train:final_output_size: 9\n",
      "\n",
      "INFO:train: 500/5000 train: CE=1.0467, train_acc:0.61, test: CE=0.9980, test_acc:0.63 slop=0.99804\n",
      "INFO:train:1000/5000 train: CE=0.9986, train_acc:0.63, test: CE=0.9716, test_acc:0.64 slop=-0.02643\n",
      "INFO:train:1500/5000 train: CE=0.9622, train_acc:0.64, test: CE=0.9476, test_acc:0.66 slop=-0.02400\n",
      "INFO:train:2000/5000 train: CE=0.9323, train_acc:0.66, test: CE=0.9255, test_acc:0.66 slop=-0.02214\n",
      "INFO:train:2500/5000 train: CE=0.9160, train_acc:0.66, test: CE=0.9186, test_acc:0.66 slop=-0.00685\n",
      "INFO:train:3000/5000 train: CE=0.8977, train_acc:0.67, test: CE=0.9076, test_acc:0.67 slop=-0.01104\n",
      "INFO:train:3500/5000 train: CE=0.8887, train_acc:0.67, test: CE=0.9006, test_acc:0.67 slop=-0.00698\n",
      "INFO:train:4000/5000 train: CE=0.8691, train_acc:0.68, test: CE=0.8948, test_acc:0.67 slop=-0.00581\n",
      "INFO:train:4500/5000 train: CE=0.8665, train_acc:0.68, test: CE=0.8914, test_acc:0.67 slop=-0.00338\n",
      "INFO:train:5000/5000 train: CE=0.8650, train_acc:0.68, test: CE=0.8912, test_acc:0.67 slop=-0.00021\n",
      "INFO:root:Training finished\n"
     ]
    }
   ],
   "source": [
    "max_epoch = 5000\n",
    "n = 500 # n_display\n",
    "uq_vowels = list(set(labels))\n",
    "\n",
    "# Train\n",
    "total_cost, total_test, moving_avg, final_epoch, params = train_nn(\n",
    "    (X_train, Y_train_onehot), (X_test, Y_test_onehot), uq_vowels, \n",
    "    training_epochs=max_epoch, \n",
    "    model_dir=os.path.join('model','test'), n_display=n, verbose=True)"
   ]
  },
  {
   "cell_type": "markdown",
   "metadata": {},
   "source": [
    "## 해야할 것\n",
    "\n",
    "- [x] 훈련 accuracy도 추가하기\n",
    "- [x] hidden size를 늘리고 dropout을 추가하자!  \n",
    "- [추후] class 형태로 코드 정리하기 (trainmode testmode가 가능하도록)\n",
    "- [] 테스트 코드 작성하기"
   ]
  },
  {
   "cell_type": "markdown",
   "metadata": {},
   "source": [
    "## 발견한 것\n",
    "\n",
    "- Scaling이 1%정도 정확도 향상시킴\n",
    "- dropout=0.5가 적당히 overfitting막는 듯\n",
    "- (500 -> 200 -> 50)으로 줄어드는 구조가 정확도 1%정도를 향상시키는 듯"
   ]
  },
  {
   "cell_type": "code",
   "execution_count": 12,
   "metadata": {},
   "outputs": [],
   "source": [
    "def predict(model_dir, which_epoch, indata, outdata=None):\n",
    "    tf.reset_default_graph()\n",
    "\n",
    "    print('model_dir:', model_dir)\n",
    "    print('final_epoch:', which_epoch)\n",
    "    print('indata:', indata.shape)\n",
    "    if outdata is not None:\n",
    "        print('outdata:', outdata.shape)\n",
    "\n",
    "    with tf.Session() as sess:\n",
    "        saver = tf.train.import_meta_graph(\n",
    "            os.path.join(model_dir, 'model_epoch={}.meta'.format(which_epoch)))\n",
    "        saver.restore(sess, os.path.join(\n",
    "            model_dir, 'model_epoch={}'.format(which_epoch)))\n",
    "        graph = tf.get_default_graph()\n",
    "\n",
    "        # retrieve variables\n",
    "        X = graph.get_tensor_by_name('X:0')\n",
    "        Y = graph.get_tensor_by_name('Y:0')\n",
    "        keep_prob = graph.get_tensor_by_name('keep_prob:0')\n",
    "        pred = graph.get_tensor_by_name('prediction:0')\n",
    "        accuracy = graph.get_tensor_by_name('accuracy:0')\n",
    "        logits = graph.get_tensor_by_name('logits:0')\n",
    "        softmax = graph.get_tensor_by_name('softmax:0')\n",
    "        if outdata is not None:\n",
    "            cost = graph.get_tensor_by_name('cost/cost:0')\n",
    "            yhat, error, acc, logits_out, softmax_out = sess.run(\n",
    "                [pred, cost, accuracy, logits, softmax], \n",
    "                feed_dict={X: indata, Y: outdata, keep_prob:1.0})\n",
    "            return yhat, error, acc, logits_out, softmax_out\n",
    "        else:\n",
    "            yhat = sess.run(pred, feed_dict={X: indata, keep_prob:1.0})\n",
    "            return yhat"
   ]
  },
  {
   "cell_type": "code",
   "execution_count": 47,
   "metadata": {},
   "outputs": [
    {
     "name": "stdout",
     "output_type": "stream",
     "text": [
      "model_dir: model/test\n",
      "final_epoch: 5000\n",
      "indata: (7756, 15)\n",
      "outdata: (7756,)\n",
      "INFO:tensorflow:Restoring parameters from model/test/model_epoch=5000\n"
     ]
    },
    {
     "name": "stderr",
     "output_type": "stream",
     "text": [
      "INFO:tensorflow:Restoring parameters from model/test/model_epoch=5000\n"
     ]
    }
   ],
   "source": [
    "pred, error, acc, logits_out, softmax_out = predict('model/test', which_epoch=max_epoch, indata=X_test, outdata=Y_test_onehot)"
   ]
  },
  {
   "cell_type": "code",
   "execution_count": 48,
   "metadata": {},
   "outputs": [
    {
     "data": {
      "text/plain": [
       "(array([7, 3, 4, ..., 2, 2, 4]),\n",
       " 0.89119315,\n",
       " 0.6727695,\n",
       " array([[ 2.2848275 , -0.23497525, -3.4075177 , ...,  5.798421  ,\n",
       "          8.457406  ,  3.712534  ],\n",
       "        [ 5.0931373 ,  5.275269  ,  2.4649322 , ..., -5.1782074 ,\n",
       "         -6.9349556 , -0.88612455],\n",
       "        [ 5.421812  , -1.7836965 , -0.80496633, ...,  7.0968256 ,\n",
       "          3.2241728 , -2.1633468 ],\n",
       "        ...,\n",
       "        [ 0.0341261 , 12.151374  , 13.219174  , ..., -4.985161  ,\n",
       "         -5.2439866 ,  0.36185896],\n",
       "        [-4.347925  , 14.411112  , 17.04774   , ..., -4.198065  ,\n",
       "          6.844475  ,  6.356017  ],\n",
       "        [ 4.223678  ,  0.6696428 , -0.55588955, ...,  1.5700743 ,\n",
       "          1.5702658 ,  0.48723495]], dtype=float32),\n",
       " array([[1.74838468e-03, 1.40702177e-04, 5.89499041e-06, ...,\n",
       "         5.86909726e-02, 8.38212013e-01, 7.28923781e-03],\n",
       "        [1.92826197e-01, 2.31347516e-01, 1.39235845e-02, ...,\n",
       "         6.67387303e-06, 1.15194530e-06, 4.87984013e-04],\n",
       "        [6.46499619e-02, 4.80016097e-05, 1.27735882e-04, ...,\n",
       "         3.45157593e-01, 7.18034897e-03, 3.28379356e-05],\n",
       "        ...,\n",
       "        [1.04409412e-06, 1.91070378e-01, 5.55818856e-01, ...,\n",
       "         6.90067159e-09, 5.32701705e-09, 1.44901298e-06],\n",
       "        [4.57701543e-10, 6.41990602e-02, 8.96607041e-01, ...,\n",
       "         5.31699129e-10, 3.32184973e-05, 2.03819382e-05],\n",
       "        [1.48313791e-01, 4.24310425e-03, 1.24578096e-03, ...,\n",
       "         1.04408525e-02, 1.04428539e-02, 3.53561505e-03]], dtype=float32))"
      ]
     },
     "execution_count": 48,
     "metadata": {},
     "output_type": "execute_result"
    }
   ],
   "source": [
    "pred, error.mean(), acc, logits_out, softmax_out"
   ]
  },
  {
   "cell_type": "code",
   "execution_count": 16,
   "metadata": {},
   "outputs": [
    {
     "data": {
      "text/plain": [
       "[('UW1', 'UW1', 'O'),\n",
       " ('AA1', 'EH1'),\n",
       " ('IH1', 'IH1', 'O'),\n",
       " ('IY1', 'IY1', 'O'),\n",
       " ('AO1', 'AO1', 'O'),\n",
       " ('AH1', 'EH1'),\n",
       " ('IH1', 'EH1'),\n",
       " ('IY1', 'IY1', 'O'),\n",
       " ('AH1', 'AA1'),\n",
       " ('UW1', 'UW1', 'O'),\n",
       " ('EH1', 'AE1'),\n",
       " ('EH1', 'IH1'),\n",
       " ('AO1', 'AO1', 'O'),\n",
       " ('AE1', 'AE1', 'O'),\n",
       " ('EH1', 'IH1'),\n",
       " ('AH1', 'AH1', 'O'),\n",
       " ('AA1', 'AA1', 'O'),\n",
       " ('AH1', 'AH1', 'O'),\n",
       " ('IH1', 'UH1'),\n",
       " ('UW1', 'UW1', 'O'),\n",
       " ('AH1', 'AH1', 'O'),\n",
       " ('IH1', 'IH1', 'O'),\n",
       " ('EH1', 'IH1'),\n",
       " ('EH1', 'AH1'),\n",
       " ('IY1', 'IY1', 'O'),\n",
       " ('AO1', 'AA1'),\n",
       " ('EH1', 'UW1'),\n",
       " ('AO1', 'AA1'),\n",
       " ('UW1', 'UW1', 'O'),\n",
       " ('UW1', 'IH1'),\n",
       " ('AA1', 'AA1', 'O'),\n",
       " ('IY1', 'IY1', 'O'),\n",
       " ('AH1', 'AH1', 'O'),\n",
       " ('UH1', 'UH1', 'O'),\n",
       " ('IY1', 'IY1', 'O'),\n",
       " ('AE1', 'AE1', 'O'),\n",
       " ('EH1', 'AH1'),\n",
       " ('AE1', 'AE1', 'O'),\n",
       " ('IY1', 'IY1', 'O'),\n",
       " ('AO1', 'AA1'),\n",
       " ('AO1', 'AA1'),\n",
       " ('AE1', 'AE1', 'O'),\n",
       " ('AA1', 'AE1'),\n",
       " ('IH1', 'IH1', 'O'),\n",
       " ('AH1', 'EH1'),\n",
       " ('IY1', 'IY1', 'O'),\n",
       " ('UW1', 'UW1', 'O'),\n",
       " ('UW1', 'UW1', 'O'),\n",
       " ('IH1', 'IH1', 'O'),\n",
       " ('AO1', 'AO1', 'O')]"
      ]
     },
     "execution_count": 16,
     "metadata": {},
     "output_type": "execute_result"
    }
   ],
   "source": [
    "[(y, idx2phn[i], 'O') if y==idx2phn[i] else (y, idx2phn[i]) for i, y in zip(pred[:50], Y_test[:50])]"
   ]
  },
  {
   "cell_type": "markdown",
   "metadata": {},
   "source": [
    "## Forward 펑션 체크하기"
   ]
  },
  {
   "cell_type": "code",
   "execution_count": 115,
   "metadata": {},
   "outputs": [],
   "source": [
    "def softmax_stable(X):\n",
    "    e_x = np.exp(X - np.max(X), dtype=np.float32)\n",
    "    return np.true_divide(e_x, np.tile(np.sum(e_x, axis=1, keepdims=True), e_x.shape[1]))\n",
    "\n",
    "def softmax_raw(X):\n",
    "    e_x = np.exp(X, dtype=np.float32)\n",
    "    return np.true_divide(e_x, np.tile(np.sum(e_x, axis=1, keepdims=True), e_x.shape[1]))\n",
    "\n",
    "def forward(X, params, softmax_type='raw'):\n",
    "    '''\n",
    "    This function requires ANN hyper-parameters and sigmoid function\n",
    "    from outside.\n",
    "    They were separated for calculating Jacobian matrix (numdifftools)\n",
    "    '''\n",
    "    W1, W2, W3, W4 = params['W1'], params['W2'], params['W3'], params['W4']\n",
    "    b1, b2, b3, b4 = params['b1'], params['b2'], params['b3'], params['b4']\n",
    "    L1 = relu(np.dot(X, W1) + b1) # Nx300\n",
    "    L2 = relu(np.dot(L1, W2) + b2) # Nx300\n",
    "    L3 = relu(np.dot(L2, W3) + b3) # Nx300\n",
    "    L4 = np.dot(L3, W4) + b4 # Nx300\n",
    "    if softmax_type=='raw':\n",
    "        softmax_out = softmax_raw(L4)\n",
    "    elif softmax_type=='stable':\n",
    "        softmax_out = softmax_stable(L4)\n",
    "    elif softmax_type=='tf': # --> this method is wrong!!\n",
    "        sess = tf.InteractiveSession()\n",
    "        softmax_out = sess.run(tf.exp(L4) / tf.reduce_sum(tf.exp(L4)))\n",
    "        sess.close()\n",
    "    elif softmax_type=='tf_trained':\n",
    "        sess = tf.InteractiveSession()\n",
    "        softmax_out = sess.run(tf.nn.softmax(L4))\n",
    "        sess.close()\n",
    "    return L4, softmax_out"
   ]
  },
  {
   "cell_type": "code",
   "execution_count": 116,
   "metadata": {},
   "outputs": [
    {
     "name": "stdout",
     "output_type": "stream",
     "text": [
      "model_dir: model/test\n",
      "which_epoch: 5000\n",
      "INFO:tensorflow:Restoring parameters from model/test/model_epoch=5000\n"
     ]
    },
    {
     "name": "stderr",
     "output_type": "stream",
     "text": [
      "INFO:tensorflow:Restoring parameters from model/test/model_epoch=5000\n"
     ]
    }
   ],
   "source": [
    "params_load = get_param('model/test', which_epoch=max_epoch)\n",
    "my_logits, my_softmax_raw = forward(X_test, params_load, softmax_type='raw')\n",
    "_, my_softmax_stable = forward(X_test, params_load, softmax_type='stable')\n",
    "_, my_softmax_tf = forward(X_test, params_load, softmax_type='tf')\n",
    "_, my_softmax_tf_trained = forward(X_test, params_load, softmax_type='tf_trained')"
   ]
  },
  {
   "cell_type": "code",
   "execution_count": 101,
   "metadata": {},
   "outputs": [],
   "source": [
    "s_raw = np.argmax(my_softmax_raw, axis=1)\n",
    "s_stable = np.argmax(my_softmax_stable, axis=1)\n",
    "s_tf = np.argmax(my_softmax_tf, axis=1)"
   ]
  },
  {
   "cell_type": "code",
   "execution_count": 102,
   "metadata": {},
   "outputs": [
    {
     "name": "stdout",
     "output_type": "stream",
     "text": [
      "7756\n",
      "7756\n",
      "7756\n"
     ]
    }
   ],
   "source": [
    "print(sum(pred == s_raw))\n",
    "print(sum(pred == s_stable))\n",
    "print(sum(pred == s_tf))"
   ]
  },
  {
   "cell_type": "markdown",
   "metadata": {},
   "source": [
    "### forward 펑션이 동일한 값 (argmax) 을 만드는 것을 확인함 -> forward()를 가져다가 쓰면 됨!!\n",
    "\n",
    "### 근데 잠시만, argmax는 동일한데 softmax값 자체가 다르다.. 이 부분에 대한 확인이 필요"
   ]
  },
  {
   "cell_type": "code",
   "execution_count": 103,
   "metadata": {},
   "outputs": [
    {
     "data": {
      "text/plain": [
       "(array([[ 2.2848275 , -0.23497525, -3.4075177 , ...,  5.798421  ,\n",
       "          8.457406  ,  3.712534  ],\n",
       "        [ 5.0931373 ,  5.275269  ,  2.4649322 , ..., -5.1782074 ,\n",
       "         -6.9349556 , -0.88612455],\n",
       "        [ 5.421812  , -1.7836965 , -0.80496633, ...,  7.0968256 ,\n",
       "          3.2241728 , -2.1633468 ],\n",
       "        ...,\n",
       "        [ 0.0341261 , 12.151374  , 13.219174  , ..., -4.985161  ,\n",
       "         -5.2439866 ,  0.36185896],\n",
       "        [-4.347925  , 14.411112  , 17.04774   , ..., -4.198065  ,\n",
       "          6.844475  ,  6.356017  ],\n",
       "        [ 4.223678  ,  0.6696428 , -0.55588955, ...,  1.5700743 ,\n",
       "          1.5702658 ,  0.48723495]], dtype=float32),\n",
       " array([[ 2.28482752, -0.23497503, -3.40751698, ...,  5.79842057,\n",
       "          8.45740565,  3.71253374],\n",
       "        [ 5.09313754,  5.27526949,  2.46493282, ..., -5.17820779,\n",
       "         -6.93495643, -0.88612501],\n",
       "        [ 5.42181186, -1.78369559, -0.80496581, ...,  7.09682396,\n",
       "          3.22417252, -2.1633455 ],\n",
       "        ...,\n",
       "        [ 0.0341259 , 12.15137329, 13.21917519, ..., -4.98516099,\n",
       "         -5.24398677,  0.36185922],\n",
       "        [-4.34792651, 14.41111219, 17.04774224, ..., -4.19806471,\n",
       "          6.84447552,  6.35601819],\n",
       "        [ 4.22367815,  0.66964276, -0.55588947, ...,  1.57007428,\n",
       "          1.5702658 ,  0.48723493]]))"
      ]
     },
     "execution_count": 103,
     "metadata": {},
     "output_type": "execute_result"
    }
   ],
   "source": [
    "logits_out, my_logits"
   ]
  },
  {
   "cell_type": "markdown",
   "metadata": {},
   "source": [
    "### 오케이 logits은 똑같은 값이 나온다\n",
    "\n",
    "### 그럼 softmax는?"
   ]
  },
  {
   "cell_type": "code",
   "execution_count": 104,
   "metadata": {},
   "outputs": [],
   "source": [
    "s1 = np.max(softmax_out, axis=1)\n",
    "s2 = np.max(my_softmax_raw, axis=1)\n",
    "s3 = np.max(my_softmax_stable, axis=1)\n",
    "s4 = np.max(my_softmax_tf, axis=1)\n",
    "s5 = np.max(my_softmax_tf_trained, axis=1)"
   ]
  },
  {
   "cell_type": "code",
   "execution_count": 105,
   "metadata": {},
   "outputs": [
    {
     "data": {
      "text/plain": [
       "[<matplotlib.lines.Line2D at 0x7fd208c7db00>]"
      ]
     },
     "execution_count": 105,
     "metadata": {},
     "output_type": "execute_result"
    },
    {
     "data": {
      "image/png": "[encoded data removed]",
      "text/plain": [
       "<Figure size 1080x720 with 5 Axes>"
      ]
     },
     "metadata": {},
     "output_type": "display_data"
    }
   ],
   "source": [
    "fig, (ax1,ax2,ax3,ax4,ax5) = plt.subplots(5,1,facecolor='white', figsize=(15,10), sharex=True)\n",
    "ax1.plot(s1[:20], color='b')\n",
    "ax2.plot(s2[:20], color='r')\n",
    "ax3.plot(s3[:20], color='g')\n",
    "ax4.plot(s4[:20], color='y')\n",
    "ax5.plot(s5[:20], color='m')"
   ]
  },
  {
   "cell_type": "code",
   "execution_count": 85,
   "metadata": {},
   "outputs": [
    {
     "data": {
      "text/plain": [
       "array([13.54349082,  9.83745455, 12.18899777, ..., 34.25929261,\n",
       "       58.27931298,  9.98923703])"
      ]
     },
     "execution_count": 85,
     "metadata": {},
     "output_type": "execute_result"
    }
   ],
   "source": [
    "my_logits.sum(axis=1)"
   ]
  },
  {
   "cell_type": "code",
   "execution_count": 106,
   "metadata": {},
   "outputs": [
    {
     "data": {
      "text/plain": [
       "(array([0.838212  , 0.5442449 , 0.5735516 , ..., 0.55581886, 0.89660704,\n",
       "        0.7959931 ], dtype=float32),\n",
       " array([0.838212  , 0.5442448 , 0.57355165, ..., 0.5558191 , 0.89660716,\n",
       "        0.79599303], dtype=float32),\n",
       " array([0.8382123 , 0.54424405, 0.57355064, ..., 0.5558199 , 0.8966075 ,\n",
       "        0.79599303], dtype=float32),\n",
       " array([7.50301471e-35, 7.32454864e-36, 3.19814375e-35, ...,\n",
       "        8.77497794e-33, 4.03618977e-31, 5.83820143e-36]),\n",
       " array([0.83821197, 0.54424475, 0.57355166, ..., 0.55581903, 0.89660711,\n",
       "        0.79599305]))"
      ]
     },
     "execution_count": 106,
     "metadata": {},
     "output_type": "execute_result"
    }
   ],
   "source": [
    "s1, s2, s3, s4, s5"
   ]
  },
  {
   "cell_type": "markdown",
   "metadata": {},
   "source": [
    "## 결국 알아낸 것: softmax를 제대로 구현하여야한다는 것. 선형대수의 연산 과정에서 매트릭스 연산과 원소차원 연산을 제대로 분리하자!!"
   ]
  }
 ],
 "metadata": {
  "kernelspec": {
   "display_name": "Python 3",
   "language": "python",
   "name": "python3"
  },
  "language_info": {
   "codemirror_mode": {
    "name": "ipython",
    "version": 3
   },
   "file_extension": ".py",
   "mimetype": "text/x-python",
   "name": "python",
   "nbconvert_exporter": "python",
   "pygments_lexer": "ipython3",
   "version": "3.6.4"
  }
 },
 "nbformat": 4,
 "nbformat_minor": 2
}
