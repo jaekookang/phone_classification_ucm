{
 "cells": [
  {
   "cell_type": "markdown",
   "metadata": {},
   "source": [
    "# UCM analysis\n",
    "\n",
    "2018-08-23"
   ]
  },
  {
   "cell_type": "code",
   "execution_count": 8,
   "metadata": {},
   "outputs": [],
   "source": [
    "%matplotlib inline\n",
    "import ipdb as pdb\n",
    "import os\n",
    "import matplotlib.pyplot as plt\n",
    "# import mpl_toolkits.mplot3d.art3d as art3d\n",
    "\n",
    "from ipywidgets import interact, interactive, fixed, interact_manual\n",
    "from ipywidgets.embed import embed_minimal_html\n",
    "import ipywidgets as widgets\n",
    "import seaborn as sns\n",
    "sns.set(rc={'figure.facecolor':'white'})\n",
    "\n",
    "import pandas as pd\n",
    "import numpy as np\n",
    "import numdifftools as nd\n",
    "# from tools.utils import *\n",
    "from time import gmtime, strftime\n",
    "import tensorflow as tf\n",
    "from train import *\n",
    "from utils import *"
   ]
  },
  {
   "cell_type": "markdown",
   "metadata": {},
   "source": [
    "## Load data"
   ]
  },
  {
   "cell_type": "code",
   "execution_count": 5,
   "metadata": {},
   "outputs": [
    {
     "name": "stdout",
     "output_type": "stream",
     "text": [
      "model_dir: model/test\n",
      "which_epoch: 2000\n",
      "INFO:tensorflow:Restoring parameters from model/test/model_epoch=2000\n"
     ]
    }
   ],
   "source": [
    "m_params = get_param('model/test', which_epoch=2000)  # model parameters\n",
    "phn2idx = np.load('phn2idx.npy').item()\n",
    "idx2phn = np.load('idx2phn.npy').item()\n",
    "pca = np.load('fft_linfilt_pca.npy').item()\n",
    "X_reduced = np.load('fft_linfilt_pca_reduced.npy')\n",
    "X_scaler = np.load('fft_linfilt_pca_reduced_scaler.npy').item()\n",
    "phones = [*phn2idx]"
   ]
  },
  {
   "cell_type": "code",
   "execution_count": 6,
   "metadata": {},
   "outputs": [
    {
     "data": {
      "text/plain": [
       "(38777, 15)"
      ]
     },
     "execution_count": 6,
     "metadata": {},
     "output_type": "execute_result"
    }
   ],
   "source": [
    "X_reduced.shape"
   ]
  },
  {
   "cell_type": "code",
   "execution_count": 9,
   "metadata": {},
   "outputs": [],
   "source": [
    "vowels = ['IY1','AE1','AA1','UW1']"
   ]
  },
  {
   "cell_type": "markdown",
   "metadata": {},
   "source": [
    "## UCM analysis"
   ]
  },
  {
   "cell_type": "code",
   "execution_count": null,
   "metadata": {},
   "outputs": [],
   "source": [
    "medianAcous = np.zeros((len(vowels),15))\n"
   ]
  },
  {
   "cell_type": "code",
   "execution_count": null,
   "metadata": {},
   "outputs": [],
   "source": []
  },
  {
   "cell_type": "markdown",
   "metadata": {},
   "source": [
    "## CM analysis"
   ]
  },
  {
   "cell_type": "code",
   "execution_count": null,
   "metadata": {},
   "outputs": [],
   "source": []
  },
  {
   "cell_type": "code",
   "execution_count": null,
   "metadata": {},
   "outputs": [],
   "source": []
  },
  {
   "cell_type": "code",
   "execution_count": null,
   "metadata": {},
   "outputs": [],
   "source": []
  }
 ],
 "metadata": {
  "kernelspec": {
   "display_name": "Python 3",
   "language": "python",
   "name": "python3"
  },
  "language_info": {
   "codemirror_mode": {
    "name": "ipython",
    "version": 3
   },
   "file_extension": ".py",
   "mimetype": "text/x-python",
   "name": "python",
   "nbconvert_exporter": "python",
   "pygments_lexer": "ipython3",
   "version": "3.6.4"
  }
 },
 "nbformat": 4,
 "nbformat_minor": 2
}
